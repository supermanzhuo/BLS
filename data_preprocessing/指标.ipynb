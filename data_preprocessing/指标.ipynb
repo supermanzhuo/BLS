{
 "cells": [
  {
   "cell_type": "code",
   "execution_count": 69,
   "id": "3b7c07ad",
   "metadata": {},
   "outputs": [],
   "source": [
    "import numpy as np\n",
    "import pandas as pd\n",
    "import matplotlib as mpl\n",
    "import matplotlib.pyplot as plt\n",
    "from sklearn import preprocessing\n",
    "\n",
    "d=pd.read_csv(\"D:\\美赛\\data.csv\")\n",
    "\n",
    "d.loc[:, \"Gold_values1\"] = d[\"Gold_values\"].fillna(method='pad')\n",
    "\n",
    "\n",
    "#黄金是否可交易\n",
    "def panduan(d):\n",
    "    if pd.isna(d['Gold_values']):\n",
    "        return 0\n",
    "    else:\n",
    "        return 1\n",
    "    \n",
    "d.loc[:, \"Is_Gold_tradable\"] = d.apply(panduan, axis=1)\n",
    "\n",
    "#计算黄金增幅    \n",
    "for i in range(1825):\n",
    "    d.loc[i+1, \"Gold_Rate\"] = (d.loc[i+1,\"Gold_values1\"]-d.loc[i,\"Gold_values1\"])/d.loc[i,\"Gold_values1\"]\n",
    "d['Gold_Rate'] = d['Gold_Rate'].apply(lambda x: format(x, '.2%'))\n",
    "\n",
    "#计算比特币增幅\n",
    "for i in range(1825):\n",
    "    d.loc[i+1, \"Bit_Rate\"] = (d.loc[i+1,\"Bit_values\"]-d.loc[i,\"Bit_values\"])/d.loc[i,\"Bit_values\"]\n",
    "d['Bit_Rate'] = d['Bit_Rate'].apply(lambda x: format(x, '.2%'))\n",
    "\n",
    "d.to_csv('out.csv')"
   ]
  },
  {
   "cell_type": "code",
   "execution_count": null,
   "id": "7366ac3b",
   "metadata": {},
   "outputs": [],
   "source": []
  }
 ],
 "metadata": {
  "kernelspec": {
   "display_name": "Python 3 (ipykernel)",
   "language": "python",
   "name": "python3"
  },
  "language_info": {
   "codemirror_mode": {
    "name": "ipython",
    "version": 3
   },
   "file_extension": ".py",
   "mimetype": "text/x-python",
   "name": "python",
   "nbconvert_exporter": "python",
   "pygments_lexer": "ipython3",
   "version": "3.9.7"
  }
 },
 "nbformat": 4,
 "nbformat_minor": 5
}
